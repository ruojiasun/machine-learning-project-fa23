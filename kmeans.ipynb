{
 "cells": [
  {
   "cell_type": "code",
   "execution_count": null,
   "metadata": {},
   "outputs": [],
   "source": [
    "# !pip install scikit-learn"
   ]
  },
  {
   "cell_type": "code",
   "execution_count": null,
   "metadata": {},
   "outputs": [],
   "source": [
    "import pandas as pd\n",
    "import numpy as np\n",
    "from sklearn.cluster import KMeans\n",
    "from sklearn.metrics import silhouette_score\n",
    "import matplotlib.pyplot as plt\n",
    "from sklearn import preprocessing\n",
    "\n",
    "df = pd.read_csv('nri-svi-cleaned.csv')\n",
    "\n",
    "df_numerical = df[['EP_POV150','EP_HBURD','EP_AFAM','EP_HISP','RISK_VALUE','CFLD_RISKV','HWAV_RISKV']]\n",
    "\n",
    "\n",
    "f = lambda x: np.power(abs(x), 1./3)\n",
    "df_numerical['RISK_VALUE'] = f(df_numerical['RISK_VALUE'])\n",
    "# df_numerical['EAL_VALT'] = f(df_numerical['EAL_VALT'])\n",
    "\n",
    "\n",
    "df_numerical['CFLD_RISKV'] = f(df_numerical['CFLD_RISKV'])\n",
    "df_numerical['HWAV_RISKV'] = f(df_numerical['HWAV_RISKV'])\n",
    "\n",
    "# print(df_numerical)\n",
    "df_numerical=(df_numerical-df_numerical.min())/(df_numerical.max()-df_numerical.min())\n",
    "# df_numerical['RISK_VALUE'] = df_numerical['RISK_VALUE']*4\n",
    "# df_numerical.to_csv('nri-svi-cleaned-2.csv', sep=',', index=False, encoding='utf-8')"
   ]
  },
  {
   "cell_type": "code",
   "execution_count": null,
   "metadata": {},
   "outputs": [],
   "source": [
    "silhouette_scores = []\n",
    "# Determine the number of clusters using Silhouette Score\n",
    "for num_clusters in range(2, 11):\n",
    "    kmeans = KMeans(n_clusters=num_clusters, init='k-means++', max_iter=300, n_init=10, random_state=0)\n",
    "    cluster_labels = kmeans.fit_predict(df_numerical.iloc[:, :-1])\n",
    "    silhouette_avg = silhouette_score(df_numerical.iloc[:, :-1], cluster_labels)\n",
    "    silhouette_scores.append(silhouette_avg)\n",
    "\n",
    "\n",
    "# Plotting the Silhouette Score graph\n",
    "plt.figure(figsize=(8, 6))\n",
    "plt.plot(range(2, 11), silhouette_scores, marker='o', linestyle='--')\n",
    "plt.title('Silhouette Score Method')\n",
    "plt.xlabel('Number of clusters')\n",
    "plt.ylabel('Silhouette Score')\n",
    "plt.show()\n",
    "\n",
    "# Find the number of clusters with the highest Silhouette Score\n",
    "best_num_clusters = silhouette_scores.index(max(silhouette_scores)) + 2\n",
    "\n",
    "# Perform K-Means clustering with the best number of clusters, in this case k=3\n",
    "kmeans = KMeans(n_clusters=best_num_clusters, init='k-means++', max_iter=300, n_init=10, random_state=0)\n",
    "cluster_labels = kmeans.fit_predict(df_numerical.iloc[:, :-1])\n",
    "\n",
    "# Add the cluster labels to the DataFrame\n",
    "df_numerical['cluster'] = cluster_labels\n",
    "centroids  = kmeans.cluster_centers_\n",
    "# print(\"k=3\")\n",
    "# print(centroids)\n",
    "\n",
    "# # Perform K-Means clustering with k=2\n",
    "# kmeans = KMeans(n_clusters=2, init='k-means++', max_iter=300, n_init=10, random_state=0)\n",
    "# cluster_labels = kmeans.fit_predict(df_numerical.iloc[:, :-1])\n",
    "\n",
    "# centroids  = kmeans.cluster_centers_\n",
    "# print(\"k=2\")\n",
    "# print(centroids)\n",
    "\n",
    "# # Perform K-Means clustering with k=5\n",
    "# kmeans = KMeans(n_clusters=4, init='k-means++', max_iter=300, n_init=10, random_state=0)\n",
    "# cluster_labels = kmeans.fit_predict(df_numerical.iloc[:, :-1])\n",
    "\n",
    "# centroids  = kmeans.cluster_centers_\n",
    "# print(\"k=4\")\n",
    "# print(centroids)\n",
    "\n",
    "\n",
    "# print(df_numerical.head(5))\n",
    "# print(f\"The best number of clusters according to Silhouette Score is: {best_num_clusters}\")"
   ]
  },
  {
   "cell_type": "code",
   "execution_count": null,
   "metadata": {},
   "outputs": [],
   "source": [
    "# save data with cluster labels and FIPS labels\n",
    "df_numerical.insert(0,'FIPS', df['FIPS'])\n",
    "df_numerical.to_csv('kmeans-groups.csv', sep=',', index=False, encoding='utf-8')"
   ]
  },
  {
   "cell_type": "code",
   "execution_count": null,
   "metadata": {},
   "outputs": [],
   "source": [
    "#Importing required modules\n",
    "from sklearn.decomposition import PCA\n",
    "import numpy as np\n",
    " \n",
    "pca = PCA(n_components=2)\n",
    " \n",
    "#Transform the data\n",
    "df = pca.fit_transform(df_numerical.iloc[:,:-1])\n",
    " \n",
    "#Getting unique labels\n",
    "u_labels = np.unique(cluster_labels)\n",
    "colors_3 = ['blue','orange','green','red']\n",
    "\n",
    "#plotting the results:\n",
    "for i in u_labels:\n",
    "    plt.scatter(df[cluster_labels == i , 0] , df[cluster_labels == i , 1] , s = 10, label = f\"cluster {i}\")\n",
    "    plt.scatter(centroids[i,0] , centroids[i,1] , s = 40, color = colors_3[i], label = f\"centroid {i}\")\n",
    "\n",
    "plt.title(\"K-means cluster plot with k=3 (\\\"best\\\" k), using PCA\")\n",
    "plt.xlabel(\"PC1\")\n",
    "plt.ylabel(\"PC2\")\n",
    "plt.legend()\n",
    "plt.show()\n",
    "\n",
    "print(pca.components_)\n",
    "# print(['EP_POV150','EP_HBURD','EP_AFAM','EP_HISP','RISK_VALUE','CFLD_RISKV','HWAV_RISKV'])"
   ]
  }
 ],
 "metadata": {
  "kernelspec": {
   "display_name": "py39",
   "language": "python",
   "name": "python3"
  },
  "language_info": {
   "codemirror_mode": {
    "name": "ipython",
    "version": 3
   },
   "file_extension": ".py",
   "mimetype": "text/x-python",
   "name": "python",
   "nbconvert_exporter": "python",
   "pygments_lexer": "ipython3",
   "version": "3.9.16"
  },
  "orig_nbformat": 4
 },
 "nbformat": 4,
 "nbformat_minor": 2
}
